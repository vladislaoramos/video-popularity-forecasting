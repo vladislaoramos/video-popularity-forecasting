{
 "cells": [
  {
   "cell_type": "code",
   "execution_count": 84,
   "metadata": {
    "execution": {
     "iopub.execute_input": "2021-05-25T10:33:43.885589Z",
     "iopub.status.busy": "2021-05-25T10:33:43.885135Z",
     "iopub.status.idle": "2021-05-25T10:33:44.293134Z",
     "shell.execute_reply": "2021-05-25T10:33:44.291625Z",
     "shell.execute_reply.started": "2021-05-25T10:33:43.885555Z"
    },
    "id": "8De5gq86TqOU"
   },
   "outputs": [],
   "source": [
    "import pandas as pd\n",
    "\n",
    "df = pd.read_csv(\"../input/yttrends/growth_df_btw_ids21.tsv\", sep='\\t')\n",
    "df.dropna(inplace=True)\n",
    "df.reset_index(drop=True, inplace=True)"
   ]
  },
  {
   "cell_type": "code",
   "execution_count": 85,
   "metadata": {
    "execution": {
     "iopub.execute_input": "2021-05-25T10:33:45.183398Z",
     "iopub.status.busy": "2021-05-25T10:33:45.182993Z",
     "iopub.status.idle": "2021-05-25T10:33:45.196727Z",
     "shell.execute_reply": "2021-05-25T10:33:45.193909Z",
     "shell.execute_reply.started": "2021-05-25T10:33:45.183364Z"
    },
    "id": "CrDCFEFrTuol"
   },
   "outputs": [],
   "source": [
    "import numpy as np\n",
    "\n",
    "numeric_data = df.select_dtypes([np.number])\n",
    "numeric_features = numeric_data.columns\n",
    "\n",
    "features = [item for item in numeric_features if not item.endswith(\"22\")]"
   ]
  },
  {
   "cell_type": "code",
   "execution_count": 86,
   "metadata": {
    "execution": {
     "iopub.execute_input": "2021-05-25T10:33:47.688141Z",
     "iopub.status.busy": "2021-05-25T10:33:47.687753Z",
     "iopub.status.idle": "2021-05-25T10:33:47.694629Z",
     "shell.execute_reply": "2021-05-25T10:33:47.693086Z",
     "shell.execute_reply.started": "2021-05-25T10:33:47.688106Z"
    },
    "id": "PTxfBJZcTwlb"
   },
   "outputs": [],
   "source": [
    "target_4 = [\"views_22\", \"comments_22\", \"likes_22\", \"dislikes_22\"]\n",
    "target_views = [\"views_22\"]\n",
    "target_likes = [\"likes_22\"]\n",
    "target_dislikes = [\"dislikes_22\"]\n",
    "target_comments = [\"comments_22\"]"
   ]
  },
  {
   "cell_type": "code",
   "execution_count": 129,
   "metadata": {
    "execution": {
     "iopub.execute_input": "2021-05-25T11:25:37.176773Z",
     "iopub.status.busy": "2021-05-25T11:25:37.176074Z",
     "iopub.status.idle": "2021-05-25T11:25:37.203845Z",
     "shell.execute_reply": "2021-05-25T11:25:37.202704Z",
     "shell.execute_reply.started": "2021-05-25T11:25:37.176721Z"
    },
    "id": "jAebHj0TTyYi"
   },
   "outputs": [],
   "source": [
    "from sklearn.model_selection import train_test_split\n",
    "\n",
    "X = df[features]\n",
    "y = df[target_views]\n",
    "\n",
    "X_train, X_test, y_train, y_test = train_test_split(X, y, test_size=0.3, random_state=10)"
   ]
  },
  {
   "cell_type": "markdown",
   "metadata": {},
   "source": [
    "Просмотры:"
   ]
  },
  {
   "cell_type": "code",
   "execution_count": 130,
   "metadata": {
    "execution": {
     "iopub.execute_input": "2021-05-25T11:25:40.076264Z",
     "iopub.status.busy": "2021-05-25T11:25:40.075872Z",
     "iopub.status.idle": "2021-05-25T11:25:40.197094Z",
     "shell.execute_reply": "2021-05-25T11:25:40.195986Z",
     "shell.execute_reply.started": "2021-05-25T11:25:40.076232Z"
    }
   },
   "outputs": [],
   "source": [
    "correlations_views = X_train.corrwith(y_train[\"views_22\"]).sort_values(ascending=False)\n",
    "corr_df = pd.DataFrame(data={\"features\": correlations_views.index, \"importance\": correlations_views.values})\n",
    "important_features = list(corr_df[np.abs(corr_df.importance) >= 0.58][\"features\"].values)"
   ]
  },
  {
   "cell_type": "markdown",
   "metadata": {},
   "source": [
    "Лайки:"
   ]
  },
  {
   "cell_type": "code",
   "execution_count": 97,
   "metadata": {
    "execution": {
     "iopub.execute_input": "2021-05-25T11:02:33.202297Z",
     "iopub.status.busy": "2021-05-25T11:02:33.201894Z",
     "iopub.status.idle": "2021-05-25T11:02:33.324425Z",
     "shell.execute_reply": "2021-05-25T11:02:33.323239Z",
     "shell.execute_reply.started": "2021-05-25T11:02:33.202260Z"
    }
   },
   "outputs": [],
   "source": [
    "correlations_likes = X_train.corrwith(y_train[\"likes_22\"]).sort_values(ascending=False)\n",
    "corr_df = pd.DataFrame(data={\"features\": correlations_likes.index, \"importance\": correlations_likes.values})\n",
    "important_features = list(corr_df[np.abs(corr_df.importance) >= 0.25][\"features\"].values)"
   ]
  },
  {
   "cell_type": "markdown",
   "metadata": {},
   "source": [
    "Дизлайки:"
   ]
  },
  {
   "cell_type": "code",
   "execution_count": 105,
   "metadata": {
    "execution": {
     "iopub.execute_input": "2021-05-25T11:07:35.909312Z",
     "iopub.status.busy": "2021-05-25T11:07:35.908869Z",
     "iopub.status.idle": "2021-05-25T11:07:36.027727Z",
     "shell.execute_reply": "2021-05-25T11:07:36.026566Z",
     "shell.execute_reply.started": "2021-05-25T11:07:35.909280Z"
    }
   },
   "outputs": [],
   "source": [
    "correlations_dislikes = X_train.corrwith(y_train[\"dislikes_22\"]).sort_values(ascending=False)\n",
    "corr_df = pd.DataFrame(data={\"features\": correlations_dislikes.index, \"importance\": correlations_dislikes.values})\n",
    "important_features = list(corr_df[np.abs(corr_df.importance) >= 0.15][\"features\"].values)"
   ]
  },
  {
   "cell_type": "markdown",
   "metadata": {},
   "source": [
    "Комментарии:"
   ]
  },
  {
   "cell_type": "code",
   "execution_count": 116,
   "metadata": {
    "execution": {
     "iopub.execute_input": "2021-05-25T11:12:41.742255Z",
     "iopub.status.busy": "2021-05-25T11:12:41.741806Z",
     "iopub.status.idle": "2021-05-25T11:12:41.862652Z",
     "shell.execute_reply": "2021-05-25T11:12:41.861508Z",
     "shell.execute_reply.started": "2021-05-25T11:12:41.742219Z"
    }
   },
   "outputs": [],
   "source": [
    "correlations_comments = X_train.corrwith(y_train[\"comments_22\"]).sort_values(ascending=False)\n",
    "corr_df = pd.DataFrame(data={\"features\": correlations_comments.index, \"importance\": correlations_comments.values})\n",
    "important_features = list(corr_df[np.abs(corr_df.importance) >= 0.05][\"features\"].values)"
   ]
  },
  {
   "cell_type": "code",
   "execution_count": 131,
   "metadata": {
    "execution": {
     "iopub.execute_input": "2021-05-25T11:25:43.574798Z",
     "iopub.status.busy": "2021-05-25T11:25:43.574333Z",
     "iopub.status.idle": "2021-05-25T11:25:43.581572Z",
     "shell.execute_reply": "2021-05-25T11:25:43.580292Z",
     "shell.execute_reply.started": "2021-05-25T11:25:43.574746Z"
    }
   },
   "outputs": [],
   "source": [
    "X = df[important_features]"
   ]
  },
  {
   "cell_type": "code",
   "execution_count": 132,
   "metadata": {
    "execution": {
     "iopub.execute_input": "2021-05-25T11:25:45.429585Z",
     "iopub.status.busy": "2021-05-25T11:25:45.429116Z",
     "iopub.status.idle": "2021-05-25T11:25:45.437777Z",
     "shell.execute_reply": "2021-05-25T11:25:45.436483Z",
     "shell.execute_reply.started": "2021-05-25T11:25:45.429552Z"
    }
   },
   "outputs": [],
   "source": [
    "y = df[target_views]"
   ]
  },
  {
   "cell_type": "code",
   "execution_count": null,
   "metadata": {},
   "outputs": [],
   "source": [
    "y = df[target_likes]"
   ]
  },
  {
   "cell_type": "code",
   "execution_count": 107,
   "metadata": {
    "execution": {
     "iopub.execute_input": "2021-05-25T11:08:48.747826Z",
     "iopub.status.busy": "2021-05-25T11:08:48.747323Z",
     "iopub.status.idle": "2021-05-25T11:08:48.754547Z",
     "shell.execute_reply": "2021-05-25T11:08:48.752982Z",
     "shell.execute_reply.started": "2021-05-25T11:08:48.747767Z"
    }
   },
   "outputs": [],
   "source": [
    "y = df[target_dislikes]"
   ]
  },
  {
   "cell_type": "code",
   "execution_count": 118,
   "metadata": {
    "execution": {
     "iopub.execute_input": "2021-05-25T11:12:46.594762Z",
     "iopub.status.busy": "2021-05-25T11:12:46.594401Z",
     "iopub.status.idle": "2021-05-25T11:12:46.600735Z",
     "shell.execute_reply": "2021-05-25T11:12:46.599409Z",
     "shell.execute_reply.started": "2021-05-25T11:12:46.594729Z"
    }
   },
   "outputs": [],
   "source": [
    "y = df[target_comments]"
   ]
  },
  {
   "cell_type": "code",
   "execution_count": 119,
   "metadata": {
    "execution": {
     "iopub.execute_input": "2021-05-25T11:12:48.045967Z",
     "iopub.status.busy": "2021-05-25T11:12:48.045582Z",
     "iopub.status.idle": "2021-05-25T11:12:48.061084Z",
     "shell.execute_reply": "2021-05-25T11:12:48.059494Z",
     "shell.execute_reply.started": "2021-05-25T11:12:48.045933Z"
    }
   },
   "outputs": [],
   "source": [
    "X_train, X_test, y_train, y_test = train_test_split(X, y, test_size=0.3, random_state=10)"
   ]
  },
  {
   "cell_type": "code",
   "execution_count": null,
   "metadata": {
    "execution": {
     "iopub.execute_input": "2021-05-23T12:37:42.1432Z",
     "iopub.status.busy": "2021-05-23T12:37:42.142655Z",
     "iopub.status.idle": "2021-05-23T12:37:42.168864Z",
     "shell.execute_reply": "2021-05-23T12:37:42.167567Z",
     "shell.execute_reply.started": "2021-05-23T12:37:42.143142Z"
    }
   },
   "outputs": [],
   "source": [
    "X.columns"
   ]
  },
  {
   "cell_type": "code",
   "execution_count": 133,
   "metadata": {
    "execution": {
     "iopub.execute_input": "2021-05-25T11:25:48.648727Z",
     "iopub.status.busy": "2021-05-25T11:25:48.648303Z",
     "iopub.status.idle": "2021-05-25T11:25:48.695970Z",
     "shell.execute_reply": "2021-05-25T11:25:48.694859Z",
     "shell.execute_reply.started": "2021-05-25T11:25:48.648678Z"
    },
    "id": "AjXMVwd2T0dV"
   },
   "outputs": [],
   "source": [
    "from sklearn.preprocessing import StandardScaler\n",
    "\n",
    "\n",
    "scaler = StandardScaler()\n",
    "\n",
    "X_train_scaled = scaler.fit_transform(X_train)\n",
    "X_test_scaled = scaler.transform(X_test)\n",
    "y_train_scaled = scaler.fit_transform(y_train)\n",
    "y_test_scaled = scaler.transform(y_test)"
   ]
  },
  {
   "cell_type": "code",
   "execution_count": 11,
   "metadata": {
    "execution": {
     "iopub.execute_input": "2021-05-25T09:24:18.339512Z",
     "iopub.status.busy": "2021-05-25T09:24:18.339096Z",
     "iopub.status.idle": "2021-05-25T09:24:27.258102Z",
     "shell.execute_reply": "2021-05-25T09:24:27.256693Z",
     "shell.execute_reply.started": "2021-05-25T09:24:18.339470Z"
    },
    "id": "AV7lhIb9WdTW",
    "outputId": "2be67412-e7e3-4023-9d19-61936c931543"
   },
   "outputs": [
    {
     "name": "stdout",
     "output_type": "stream",
     "text": [
      "Requirement already satisfied: catboost in /opt/conda/lib/python3.7/site-packages (0.25.1)\n",
      "Requirement already satisfied: six in /opt/conda/lib/python3.7/site-packages (from catboost) (1.15.0)\n",
      "Requirement already satisfied: graphviz in /opt/conda/lib/python3.7/site-packages (from catboost) (0.8.4)\n",
      "Requirement already satisfied: plotly in /opt/conda/lib/python3.7/site-packages (from catboost) (4.14.3)\n",
      "Requirement already satisfied: numpy>=1.16.0 in /opt/conda/lib/python3.7/site-packages (from catboost) (1.19.5)\n",
      "Requirement already satisfied: matplotlib in /opt/conda/lib/python3.7/site-packages (from catboost) (3.4.1)\n",
      "Requirement already satisfied: scipy in /opt/conda/lib/python3.7/site-packages (from catboost) (1.5.4)\n",
      "Requirement already satisfied: pandas>=0.24.0 in /opt/conda/lib/python3.7/site-packages (from catboost) (1.1.5)\n",
      "Requirement already satisfied: python-dateutil>=2.7.3 in /opt/conda/lib/python3.7/site-packages (from pandas>=0.24.0->catboost) (2.8.1)\n",
      "Requirement already satisfied: pytz>=2017.2 in /opt/conda/lib/python3.7/site-packages (from pandas>=0.24.0->catboost) (2021.1)\n",
      "Requirement already satisfied: pyparsing>=2.2.1 in /opt/conda/lib/python3.7/site-packages (from matplotlib->catboost) (2.4.7)\n",
      "Requirement already satisfied: pillow>=6.2.0 in /opt/conda/lib/python3.7/site-packages (from matplotlib->catboost) (7.2.0)\n",
      "Requirement already satisfied: kiwisolver>=1.0.1 in /opt/conda/lib/python3.7/site-packages (from matplotlib->catboost) (1.3.1)\n",
      "Requirement already satisfied: cycler>=0.10 in /opt/conda/lib/python3.7/site-packages (from matplotlib->catboost) (0.10.0)\n",
      "Requirement already satisfied: retrying>=1.3.3 in /opt/conda/lib/python3.7/site-packages (from plotly->catboost) (1.3.3)\n"
     ]
    }
   ],
   "source": [
    "!pip install catboost"
   ]
  },
  {
   "cell_type": "code",
   "execution_count": 35,
   "metadata": {
    "execution": {
     "iopub.execute_input": "2021-05-25T10:07:28.641021Z",
     "iopub.status.busy": "2021-05-25T10:07:28.640643Z",
     "iopub.status.idle": "2021-05-25T10:13:30.977266Z",
     "shell.execute_reply": "2021-05-25T10:13:30.976185Z",
     "shell.execute_reply.started": "2021-05-25T10:07:28.640980Z"
    },
    "id": "pZ2ld0PtT3OH",
    "outputId": "b154c445-6e13-4a17-d580-769de3426393"
   },
   "outputs": [
    {
     "name": "stdout",
     "output_type": "stream",
     "text": [
      "0:\tlearn: 0.9953104\ttotal: 107ms\tremaining: 14m 15s\n",
      "400:\tlearn: 0.4454080\ttotal: 16.5s\tremaining: 5m 12s\n",
      "800:\tlearn: 0.2459932\ttotal: 39s\tremaining: 5m 50s\n",
      "1200:\tlearn: 0.1989821\ttotal: 1m\tremaining: 5m 42s\n",
      "1600:\tlearn: 0.1659364\ttotal: 1m 14s\tremaining: 4m 58s\n",
      "2000:\tlearn: 0.1498402\ttotal: 1m 36s\tremaining: 4m 50s\n",
      "2400:\tlearn: 0.1242555\ttotal: 2m 7s\tremaining: 4m 56s\n",
      "2800:\tlearn: 0.1085358\ttotal: 2m 43s\tremaining: 5m 3s\n",
      "3200:\tlearn: 0.1013265\ttotal: 3m 5s\tremaining: 4m 38s\n",
      "3600:\tlearn: 0.1001098\ttotal: 3m 16s\tremaining: 3m 59s\n",
      "4000:\tlearn: 0.0985644\ttotal: 3m 29s\tremaining: 3m 29s\n",
      "4400:\tlearn: 0.0978069\ttotal: 3m 44s\tremaining: 3m 3s\n",
      "4800:\tlearn: 0.0970798\ttotal: 3m 57s\tremaining: 2m 38s\n",
      "5200:\tlearn: 0.0963013\ttotal: 4m 10s\tremaining: 2m 14s\n",
      "5600:\tlearn: 0.0952378\ttotal: 4m 27s\tremaining: 1m 54s\n",
      "6000:\tlearn: 0.0932210\ttotal: 4m 56s\tremaining: 1m 38s\n",
      "6400:\tlearn: 0.0925789\ttotal: 5m 10s\tremaining: 1m 17s\n",
      "6800:\tlearn: 0.0924499\ttotal: 5m 21s\tremaining: 56.6s\n",
      "7200:\tlearn: 0.0923470\ttotal: 5m 29s\tremaining: 36.6s\n",
      "7600:\tlearn: 0.0914519\ttotal: 5m 44s\tremaining: 18.1s\n",
      "7999:\tlearn: 0.0904811\ttotal: 6m 1s\tremaining: 0us\n"
     ]
    }
   ],
   "source": [
    "from catboost import CatBoostRegressor\n",
    "from sklearn.metrics import r2_score\n",
    "\n",
    "model = CatBoostRegressor(iterations=8000,\n",
    "                             learning_rate=0.02,\n",
    "                             depth=10,\n",
    "                             random_seed=42,\n",
    "                             task_type='GPU',\n",
    "                             bagging_temperature=0.2,\n",
    "                             od_type='Iter',\n",
    "                             metric_period=400,\n",
    "                             od_wait=100,\n",
    "                             )\n",
    "model.fit(X_train_scaled, y_train_scaled, early_stopping_rounds=400)\n",
    "y_pred = model.predict(X_test_scaled)"
   ]
  },
  {
   "cell_type": "code",
   "execution_count": 37,
   "metadata": {
    "execution": {
     "iopub.execute_input": "2021-05-25T10:19:46.476665Z",
     "iopub.status.busy": "2021-05-25T10:19:46.476284Z",
     "iopub.status.idle": "2021-05-25T10:19:46.526814Z",
     "shell.execute_reply": "2021-05-25T10:19:46.524972Z",
     "shell.execute_reply.started": "2021-05-25T10:19:46.476632Z"
    },
    "id": "XD7MEu1sWR5k",
    "outputId": "8627d944-2e97-4599-9208-89644171b760"
   },
   "outputs": [
    {
     "name": "stdout",
     "output_type": "stream",
     "text": [
      "Test R2 = 0.70385731\n"
     ]
    }
   ],
   "source": [
    "y_pred = model.predict(X_test_scaled)\n",
    "print(\"Test R2 = %.8f\" % r2_score(y_test_scaled, y_pred))"
   ]
  },
  {
   "cell_type": "code",
   "execution_count": 14,
   "metadata": {
    "execution": {
     "iopub.execute_input": "2021-05-25T09:46:50.214879Z",
     "iopub.status.busy": "2021-05-25T09:46:50.214434Z",
     "iopub.status.idle": "2021-05-25T09:46:51.045764Z",
     "shell.execute_reply": "2021-05-25T09:46:51.044507Z",
     "shell.execute_reply.started": "2021-05-25T09:46:50.214841Z"
    }
   },
   "outputs": [],
   "source": [
    "model.save_model(\"views_model\",\n",
    "           format=\"cbm\",\n",
    "           export_parameters=None,\n",
    "           pool=None)\n",
    "\n",
    "# Test R2 = 0.81325878"
   ]
  },
  {
   "cell_type": "code",
   "execution_count": 23,
   "metadata": {
    "execution": {
     "iopub.execute_input": "2021-05-25T09:56:40.535883Z",
     "iopub.status.busy": "2021-05-25T09:56:40.535383Z",
     "iopub.status.idle": "2021-05-25T09:56:40.766301Z",
     "shell.execute_reply": "2021-05-25T09:56:40.764959Z",
     "shell.execute_reply.started": "2021-05-25T09:56:40.535850Z"
    }
   },
   "outputs": [],
   "source": [
    "model.save_model(\"likes_model\",\n",
    "           format=\"cbm\",\n",
    "           export_parameters=None,\n",
    "           pool=None)\n",
    "\n",
    "# Test R2 = 0.77273126"
   ]
  },
  {
   "cell_type": "code",
   "execution_count": 30,
   "metadata": {
    "execution": {
     "iopub.execute_input": "2021-05-25T10:05:16.182223Z",
     "iopub.status.busy": "2021-05-25T10:05:16.181830Z",
     "iopub.status.idle": "2021-05-25T10:05:16.400686Z",
     "shell.execute_reply": "2021-05-25T10:05:16.399333Z",
     "shell.execute_reply.started": "2021-05-25T10:05:16.182185Z"
    }
   },
   "outputs": [],
   "source": [
    "model.save_model(\"dislikes_model\",\n",
    "           format=\"cbm\",\n",
    "           export_parameters=None,\n",
    "           pool=None)\n",
    "\n",
    "# Test R2 = 0.81136465"
   ]
  },
  {
   "cell_type": "code",
   "execution_count": 38,
   "metadata": {
    "execution": {
     "iopub.execute_input": "2021-05-25T10:20:02.241463Z",
     "iopub.status.busy": "2021-05-25T10:20:02.241067Z",
     "iopub.status.idle": "2021-05-25T10:20:02.504863Z",
     "shell.execute_reply": "2021-05-25T10:20:02.503344Z",
     "shell.execute_reply.started": "2021-05-25T10:20:02.241427Z"
    }
   },
   "outputs": [],
   "source": [
    "model.save_model(\"comments_model\",\n",
    "           format=\"cbm\",\n",
    "           export_parameters=None,\n",
    "           pool=None)\n",
    "\n",
    "# Test R2 = 0.70385731"
   ]
  },
  {
   "cell_type": "code",
   "execution_count": null,
   "metadata": {
    "id": "AA_ZfsZPh2Iq",
    "outputId": "63469c22-cf74-4192-e174-ab0443914eac"
   },
   "outputs": [],
   "source": [
    "!pip install shap"
   ]
  },
  {
   "cell_type": "code",
   "execution_count": 39,
   "metadata": {
    "execution": {
     "iopub.execute_input": "2021-05-25T10:21:51.475253Z",
     "iopub.status.busy": "2021-05-25T10:21:51.474810Z",
     "iopub.status.idle": "2021-05-25T10:22:00.907707Z",
     "shell.execute_reply": "2021-05-25T10:22:00.906575Z",
     "shell.execute_reply.started": "2021-05-25T10:21:51.475179Z"
    },
    "id": "8UPqmTozh2WO"
   },
   "outputs": [],
   "source": [
    "import matplotlib.pyplot as plt\n",
    "import numpy as np\n",
    "import os\n",
    "import pandas as pd\n",
    "import seaborn as sns\n",
    "\n",
    "from catboost import CatBoostRegressor, cv, Pool\n",
    "\n",
    "from collections import defaultdict\n",
    "\n",
    "from hyperopt import hp, fmin, tpe, STATUS_OK, STATUS_FAIL, Trials\n",
    "\n",
    "import shap\n",
    "from sklearn.decomposition import PCA\n",
    "from sklearn.ensemble import RandomForestRegressor, GradientBoostingRegressor, BaggingRegressor\n",
    "from sklearn.preprocessing import LabelEncoder, StandardScaler, OneHotEncoder\n",
    "from sklearn.model_selection import train_test_split, KFold, cross_val_score, cross_val_predict\n",
    "from sklearn.metrics import mean_squared_error, r2_score\n",
    "from sklearn.linear_model import LinearRegression, Lasso, Ridge\n",
    "from sklearn.pipeline import Pipeline\n",
    "\n",
    "from tqdm import tqdm"
   ]
  },
  {
   "cell_type": "code",
   "execution_count": 80,
   "metadata": {
    "execution": {
     "iopub.execute_input": "2021-05-25T10:32:03.250060Z",
     "iopub.status.busy": "2021-05-25T10:32:03.249639Z",
     "iopub.status.idle": "2021-05-25T10:32:03.256353Z",
     "shell.execute_reply": "2021-05-25T10:32:03.254723Z",
     "shell.execute_reply.started": "2021-05-25T10:32:03.250013Z"
    },
    "id": "vyblDQBKiIY4"
   },
   "outputs": [],
   "source": [
    "cb = CatBoostRegressor(task_type='GPU', random_seed=42, verbose=200)"
   ]
  },
  {
   "cell_type": "code",
   "execution_count": 81,
   "metadata": {
    "execution": {
     "iopub.execute_input": "2021-05-25T10:32:07.524968Z",
     "iopub.status.busy": "2021-05-25T10:32:07.524512Z",
     "iopub.status.idle": "2021-05-25T10:32:24.906306Z",
     "shell.execute_reply": "2021-05-25T10:32:24.905259Z",
     "shell.execute_reply.started": "2021-05-25T10:32:07.524928Z"
    },
    "id": "mfQk_GxBiP9f",
    "outputId": "7ea71734-0ec6-449f-d7a9-1b5f61190303"
   },
   "outputs": [
    {
     "name": "stdout",
     "output_type": "stream",
     "text": [
      "Learning rate set to 0.072007\n",
      "0:\tlearn: 0.9828173\ttotal: 18.7ms\tremaining: 18.7s\n",
      "200:\tlearn: 0.3184031\ttotal: 4.13s\tremaining: 16.4s\n",
      "400:\tlearn: 0.2326946\ttotal: 7.21s\tremaining: 10.8s\n",
      "600:\tlearn: 0.1746617\ttotal: 10.6s\tremaining: 7.03s\n",
      "800:\tlearn: 0.1492419\ttotal: 13.8s\tremaining: 3.43s\n",
      "999:\tlearn: 0.1409728\ttotal: 17s\tremaining: 0us\n"
     ]
    }
   ],
   "source": [
    "cb.fit(X_train_scaled, y_train_scaled)\n",
    "y_pred = cb.predict(X_test_scaled)"
   ]
  },
  {
   "cell_type": "code",
   "execution_count": 82,
   "metadata": {
    "execution": {
     "iopub.execute_input": "2021-05-25T10:32:32.508117Z",
     "iopub.status.busy": "2021-05-25T10:32:32.507716Z",
     "iopub.status.idle": "2021-05-25T10:32:32.519581Z",
     "shell.execute_reply": "2021-05-25T10:32:32.518374Z",
     "shell.execute_reply.started": "2021-05-25T10:32:32.508082Z"
    },
    "id": "xsi_-GV3ilru",
    "outputId": "0851ba2c-3ccc-4c73-e367-ade91a906693"
   },
   "outputs": [
    {
     "name": "stdout",
     "output_type": "stream",
     "text": [
      "Test R2 = 0.73462535\n"
     ]
    }
   ],
   "source": [
    "print(\"Test R2 = %.8f\" % r2_score(y_test_scaled, y_pred))"
   ]
  },
  {
   "cell_type": "code",
   "execution_count": 58,
   "metadata": {
    "execution": {
     "iopub.execute_input": "2021-05-25T10:26:28.073149Z",
     "iopub.status.busy": "2021-05-25T10:26:28.072790Z",
     "iopub.status.idle": "2021-05-25T10:26:28.088598Z",
     "shell.execute_reply": "2021-05-25T10:26:28.087369Z",
     "shell.execute_reply.started": "2021-05-25T10:26:28.073116Z"
    }
   },
   "outputs": [],
   "source": [
    "cb.save_model(\"views_cb\",\n",
    "           format=\"cbm\",\n",
    "           export_parameters=None,\n",
    "           pool=None)\n",
    "\n",
    "# Test R2 = 0.88377347"
   ]
  },
  {
   "cell_type": "code",
   "execution_count": 66,
   "metadata": {
    "execution": {
     "iopub.execute_input": "2021-05-25T10:28:18.725452Z",
     "iopub.status.busy": "2021-05-25T10:28:18.725015Z",
     "iopub.status.idle": "2021-05-25T10:28:18.743123Z",
     "shell.execute_reply": "2021-05-25T10:28:18.741695Z",
     "shell.execute_reply.started": "2021-05-25T10:28:18.725404Z"
    }
   },
   "outputs": [],
   "source": [
    "cb.save_model(\"likes_cb\",\n",
    "           format=\"cbm\",\n",
    "           export_parameters=None,\n",
    "           pool=None)\n",
    "\n",
    "# Test R2 = 0.79123153"
   ]
  },
  {
   "cell_type": "code",
   "execution_count": 75,
   "metadata": {
    "execution": {
     "iopub.execute_input": "2021-05-25T10:31:10.754273Z",
     "iopub.status.busy": "2021-05-25T10:31:10.753844Z",
     "iopub.status.idle": "2021-05-25T10:31:10.777792Z",
     "shell.execute_reply": "2021-05-25T10:31:10.776693Z",
     "shell.execute_reply.started": "2021-05-25T10:31:10.754237Z"
    }
   },
   "outputs": [],
   "source": [
    "cb.save_model(\"dislikes_cb\",\n",
    "           format=\"cbm\",\n",
    "           export_parameters=None,\n",
    "           pool=None)\n",
    "\n",
    "# Test R2 = 0.73913935"
   ]
  },
  {
   "cell_type": "code",
   "execution_count": 83,
   "metadata": {
    "execution": {
     "iopub.execute_input": "2021-05-25T10:32:43.981224Z",
     "iopub.status.busy": "2021-05-25T10:32:43.980843Z",
     "iopub.status.idle": "2021-05-25T10:32:43.999424Z",
     "shell.execute_reply": "2021-05-25T10:32:43.998133Z",
     "shell.execute_reply.started": "2021-05-25T10:32:43.981188Z"
    }
   },
   "outputs": [],
   "source": [
    "cb.save_model(\"comments_cb\",\n",
    "           format=\"cbm\",\n",
    "           export_parameters=None,\n",
    "           pool=None)\n",
    "\n",
    "# Test R2 = 0.73462535"
   ]
  },
  {
   "cell_type": "code",
   "execution_count": null,
   "metadata": {
    "execution": {
     "iopub.execute_input": "2021-05-23T08:40:51.174327Z",
     "iopub.status.busy": "2021-05-23T08:40:51.173876Z",
     "iopub.status.idle": "2021-05-23T08:40:51.179884Z",
     "shell.execute_reply": "2021-05-23T08:40:51.178275Z",
     "shell.execute_reply.started": "2021-05-23T08:40:51.174295Z"
    },
    "id": "0pAzKWhUiyWB"
   },
   "outputs": [],
   "source": [
    "# params = {'loss_function':'RMSE', 'verbose': 200, 'random_seed': 13, 'task_type':'GPU'}"
   ]
  },
  {
   "cell_type": "code",
   "execution_count": null,
   "metadata": {
    "execution": {
     "iopub.execute_input": "2021-05-23T08:40:52.769496Z",
     "iopub.status.busy": "2021-05-23T08:40:52.769083Z",
     "iopub.status.idle": "2021-05-23T08:40:52.777917Z",
     "shell.execute_reply": "2021-05-23T08:40:52.776228Z",
     "shell.execute_reply.started": "2021-05-23T08:40:52.769446Z"
    },
    "id": "_rHRcpgBjreF"
   },
   "outputs": [],
   "source": [
    "# catboost_hyperparams = { 'learning_rate': hp.choice('learning_rate', np.arange(0.05, 0.31, 0.05)),\n",
    "#                          'max_depth': hp.choice('max_depth', np.arange(5, 16, 1, dtype=int)),\n",
    "#                          'colsample_bylevel': hp.choice('colsample_bylevel', np.arange(0.3, 0.8, 0.1)),\n",
    "#                          'n_estimators': 100, 'eval_metric': 'RMSE'}\n",
    "\n",
    "# catbooast_fit_params = { 'early_stopping_rounds': 10, 'verbose': False }\n",
    "\n",
    "# catboost_params = dict()\n",
    "# catboost_params['reg_params'] = catboost_hyperparams\n",
    "# catboost_params['fit_params'] = catbooast_fit_params\n",
    "# catboost_params['loss_func' ] = lambda y, pred: np.sqrt(mean_squared_error(y, pred))"
   ]
  },
  {
   "cell_type": "code",
   "execution_count": null,
   "metadata": {
    "execution": {
     "iopub.execute_input": "2021-05-23T08:40:55.399094Z",
     "iopub.status.busy": "2021-05-23T08:40:55.398616Z",
     "iopub.status.idle": "2021-05-23T08:40:55.409836Z",
     "shell.execute_reply": "2021-05-23T08:40:55.408584Z",
     "shell.execute_reply.started": "2021-05-23T08:40:55.399063Z"
    },
    "id": "hyNGNvAnjzHr"
   },
   "outputs": [],
   "source": [
    "# class HPOptimiser(object):\n",
    "#     \"\"\" Class to optimiser hyper-parameters using hyperopt on a given\n",
    "#         set of training and validation inputs and labels \"\"\"\n",
    "\n",
    "#     def __init__(self, X_train, X_val, y_train, y_val):\n",
    "#         self.X_train = X_train\n",
    "#         self.X_val  = X_val\n",
    "#         self.y_train = y_train\n",
    "#         self.y_val  = y_val\n",
    "\n",
    "#     def process(self, fn_name, space, trials, algo, max_evals):\n",
    "#         fn = getattr(self, fn_name)\n",
    "#         try:\n",
    "#             result = fmin(fn=fn, space=space, algo=algo, max_evals=max_evals, trials=trials)\n",
    "#         except Exception as e:\n",
    "#             return {'status': STATUS_FAIL,\n",
    "#                     'exception': str(e)}\n",
    "#         return result, trials\n",
    "\n",
    "#     def catboost_reg(self, para):\n",
    "#         reg = CatBoostRegressor(**para['reg_params'])\n",
    "#         return self.train_reg(reg, para)\n",
    "\n",
    "#     def train_reg(self, reg, params):\n",
    "#         reg.fit(self.X_train, self.y_train,\n",
    "#                 eval_set=[(self.X_train, self.y_train), (self.X_val, self.y_val)],\n",
    "#                 **params['fit_params'])\n",
    "#         pred = reg.predict(self.X_val)\n",
    "#         loss = params['loss_func'](self.y_val, pred)\n",
    "#         return {'loss': loss, 'status': STATUS_OK}\n"
   ]
  },
  {
   "cell_type": "code",
   "execution_count": null,
   "metadata": {
    "execution": {
     "iopub.execute_input": "2021-05-23T10:43:45.951247Z",
     "iopub.status.busy": "2021-05-23T10:43:45.950832Z",
     "iopub.status.idle": "2021-05-23T11:26:29.157275Z",
     "shell.execute_reply": "2021-05-23T11:26:29.156206Z",
     "shell.execute_reply.started": "2021-05-23T10:43:45.951201Z"
    },
    "id": "MQJtm0ggj63-",
    "outputId": "78e7981a-be52-4513-dbb4-e068cd422a75"
   },
   "outputs": [],
   "source": [
    "# obj = HPOptimiser(X_train_scaled, X_test_scaled, y_train_scaled, y_test_scaled)\n",
    "\n",
    "# catboost_opt = obj.process(fn_name='catboost_reg', space=catboost_params, \n",
    "#                            trials=Trials(), algo=tpe.suggest, max_evals=100)\n",
    "# catboost_opt"
   ]
  },
  {
   "cell_type": "code",
   "execution_count": null,
   "metadata": {
    "execution": {
     "iopub.execute_input": "2021-05-23T12:31:41.447928Z",
     "iopub.status.busy": "2021-05-23T12:31:41.447499Z",
     "iopub.status.idle": "2021-05-23T12:31:41.532355Z",
     "shell.execute_reply": "2021-05-23T12:31:41.530281Z",
     "shell.execute_reply.started": "2021-05-23T12:31:41.44784Z"
    },
    "id": "9svXQM1mkdIN",
    "outputId": "0f2b5366-a96a-4ce4-eba9-3f3333196730"
   },
   "outputs": [],
   "source": [
    "# catboost_opt"
   ]
  },
  {
   "cell_type": "code",
   "execution_count": 127,
   "metadata": {
    "execution": {
     "iopub.execute_input": "2021-05-25T11:25:06.669024Z",
     "iopub.status.busy": "2021-05-25T11:25:06.668638Z",
     "iopub.status.idle": "2021-05-25T11:25:06.679933Z",
     "shell.execute_reply": "2021-05-25T11:25:06.678622Z",
     "shell.execute_reply.started": "2021-05-25T11:25:06.668981Z"
    },
    "id": "DpraQ3G5QVf3"
   },
   "outputs": [],
   "source": [
    "cb_learn_rate = 0.05\n",
    "n_iterations = 20000\n",
    "early_stop_rounds = 400\n",
    "\n",
    "opt_catboost_params = {'iterations' : n_iterations,\n",
    "                       'colsample_bylevel': 1, \n",
    "                       'learning_rate': cb_learn_rate, \n",
    "                       'max_depth': 1,\n",
    "                       'bootstrap_type' : 'Bernoulli',\n",
    "                       'random_strength': 1,\n",
    "                       'min_data_in_leaf': 10,\n",
    "                       'l2_leaf_reg': 3,\n",
    "                       'loss_function' : 'RMSE', \n",
    "                       'eval_metric' : 'RMSE',\n",
    "                       'grow_policy' : 'Depthwise',\n",
    "                       'max_bin' : 1024, \n",
    "                       'model_size_reg' : 0,\n",
    "                       'task_type' : 'GPU',\n",
    "                       'od_type' : 'IncToDec',\n",
    "                       'od_wait' : 100,\n",
    "                       'metric_period' : 500,\n",
    "                       'verbose' : 500,\n",
    "                       'subsample' : 0.8,\n",
    "                       'od_pval' : 1e-10,\n",
    "                       'max_ctr_complexity' : 8,\n",
    "                       'has_time': False,\n",
    "                       'simple_ctr' : 'FeatureFreq',\n",
    "                       'combinations_ctr': 'FeatureFreq',\n",
    "                       'random_seed' : 13}"
   ]
  },
  {
   "cell_type": "code",
   "execution_count": 128,
   "metadata": {
    "execution": {
     "iopub.execute_input": "2021-05-25T11:25:16.848061Z",
     "iopub.status.busy": "2021-05-25T11:25:16.847695Z",
     "iopub.status.idle": "2021-05-25T11:25:16.853124Z",
     "shell.execute_reply": "2021-05-25T11:25:16.851804Z",
     "shell.execute_reply.started": "2021-05-25T11:25:16.848025Z"
    },
    "id": "WDywyNOfSB6a"
   },
   "outputs": [],
   "source": [
    "cb_reg1 = CatBoostRegressor(**opt_catboost_params)"
   ]
  },
  {
   "cell_type": "code",
   "execution_count": 134,
   "metadata": {
    "execution": {
     "iopub.execute_input": "2021-05-25T11:26:04.838776Z",
     "iopub.status.busy": "2021-05-25T11:26:04.838392Z",
     "iopub.status.idle": "2021-05-25T11:26:07.620739Z",
     "shell.execute_reply": "2021-05-25T11:26:07.618962Z",
     "shell.execute_reply.started": "2021-05-25T11:26:04.838742Z"
    },
    "id": "kblRFqrHUHqj",
    "outputId": "e696d770-ea2a-4fa6-dac5-9d3be3138c8a"
   },
   "outputs": [
    {
     "name": "stdout",
     "output_type": "stream",
     "text": [
      "0:\tlearn: 0.9727871\ttest: 0.7745837\tbest: 0.7745837 (0)\ttotal: 10.2ms\tremaining: 3m 23s\n",
      "500:\tlearn: 0.0721807\ttest: 0.1736629\tbest: 0.1584208 (200)\ttotal: 1.91s\tremaining: 1m 14s\n",
      "bestTest = 0.1584208491\n",
      "bestIteration = 200\n",
      "Shrink model to first 201 iterations.\n"
     ]
    },
    {
     "data": {
      "text/plain": [
       "<catboost.core.CatBoostRegressor at 0x7f6464f516d0>"
      ]
     },
     "execution_count": 134,
     "metadata": {},
     "output_type": "execute_result"
    }
   ],
   "source": [
    "cb_reg1.fit(X_train_scaled, y_train_scaled, eval_set=(X_test_scaled, y_test_scaled), \n",
    "           use_best_model=True, \n",
    "           early_stopping_rounds=early_stop_rounds)"
   ]
  },
  {
   "cell_type": "code",
   "execution_count": 135,
   "metadata": {
    "execution": {
     "iopub.execute_input": "2021-05-25T11:26:12.413080Z",
     "iopub.status.busy": "2021-05-25T11:26:12.412618Z",
     "iopub.status.idle": "2021-05-25T11:26:12.429524Z",
     "shell.execute_reply": "2021-05-25T11:26:12.428310Z",
     "shell.execute_reply.started": "2021-05-25T11:26:12.413031Z"
    }
   },
   "outputs": [
    {
     "name": "stdout",
     "output_type": "stream",
     "text": [
      "Test R2 = 0.96070387\n"
     ]
    }
   ],
   "source": [
    "y_pred = cb_reg1.predict(X_test_scaled)\n",
    "print(\"Test R2 = %.8f\" % r2_score(y_test_scaled, y_pred))"
   ]
  },
  {
   "cell_type": "code",
   "execution_count": 121,
   "metadata": {
    "execution": {
     "iopub.execute_input": "2021-05-25T11:13:09.846276Z",
     "iopub.status.busy": "2021-05-25T11:13:09.845712Z",
     "iopub.status.idle": "2021-05-25T11:13:09.858206Z",
     "shell.execute_reply": "2021-05-25T11:13:09.856932Z",
     "shell.execute_reply.started": "2021-05-25T11:13:09.846226Z"
    },
    "id": "DpraQ3G5QVf3"
   },
   "outputs": [],
   "source": [
    "cb_learn_rate = 0.001\n",
    "n_iterations = 80000\n",
    "early_stop_rounds = 2000\n",
    "\n",
    "opt_catboost_params = {'iterations' : n_iterations,\n",
    "                       'learning_rate' : cb_learn_rate,\n",
    "                       'depth': 8,\n",
    "                       'bootstrap_type' : 'Bernoulli',\n",
    "                       'random_strength': 1,\n",
    "                       'min_data_in_leaf': 10,\n",
    "                       'l2_leaf_reg': 3,\n",
    "                       'loss_function' : 'RMSE', \n",
    "                       'eval_metric' : 'RMSE',\n",
    "                       'grow_policy' : 'Depthwise',\n",
    "                       'max_bin' : 1024, \n",
    "                       'model_size_reg' : 0,\n",
    "                       'task_type' : 'GPU',\n",
    "                       'od_type' : 'IncToDec',\n",
    "                       'od_wait' : 100,\n",
    "                       'metric_period' : 500,\n",
    "                       'verbose' : 500,\n",
    "                       'subsample' : 0.8,\n",
    "                       'od_pval' : 1e-10,\n",
    "                       'max_ctr_complexity' : 8,\n",
    "                       'has_time': False,\n",
    "                       'simple_ctr' : 'FeatureFreq',\n",
    "                       'combinations_ctr': 'FeatureFreq',\n",
    "                       'random_seed' : 13}"
   ]
  },
  {
   "cell_type": "code",
   "execution_count": 122,
   "metadata": {
    "execution": {
     "iopub.execute_input": "2021-05-25T11:13:12.215525Z",
     "iopub.status.busy": "2021-05-25T11:13:12.215064Z",
     "iopub.status.idle": "2021-05-25T11:13:12.222581Z",
     "shell.execute_reply": "2021-05-25T11:13:12.221135Z",
     "shell.execute_reply.started": "2021-05-25T11:13:12.215490Z"
    },
    "id": "WDywyNOfSB6a"
   },
   "outputs": [],
   "source": [
    "cb_reg = CatBoostRegressor(**opt_catboost_params)"
   ]
  },
  {
   "cell_type": "code",
   "execution_count": 123,
   "metadata": {
    "execution": {
     "iopub.execute_input": "2021-05-25T11:13:15.034145Z",
     "iopub.status.busy": "2021-05-25T11:13:15.033618Z",
     "iopub.status.idle": "2021-05-25T11:14:21.792378Z",
     "shell.execute_reply": "2021-05-25T11:14:21.791339Z",
     "shell.execute_reply.started": "2021-05-25T11:13:15.034081Z"
    },
    "id": "kblRFqrHUHqj",
    "outputId": "e696d770-ea2a-4fa6-dac5-9d3be3138c8a"
   },
   "outputs": [
    {
     "name": "stdout",
     "output_type": "stream",
     "text": [
      "0:\tlearn: 0.9996472\ttest: 0.5540430\tbest: 0.5540430 (0)\ttotal: 19.9ms\tremaining: 26m 35s\n",
      "500:\tlearn: 0.8541451\ttest: 0.3942755\tbest: 0.3942755 (500)\ttotal: 7.8s\tremaining: 20m 37s\n",
      "1000:\tlearn: 0.7434809\ttest: 0.2885733\tbest: 0.2885733 (1000)\ttotal: 16.7s\tremaining: 22m\n",
      "1500:\tlearn: 0.6534060\ttest: 0.2212704\tbest: 0.2212704 (1500)\ttotal: 24s\tremaining: 20m 55s\n",
      "2000:\tlearn: 0.5789754\ttest: 0.1814307\tbest: 0.1814307 (2000)\ttotal: 31.7s\tremaining: 20m 34s\n",
      "2500:\tlearn: 0.5156197\ttest: 0.1680464\tbest: 0.1680464 (2500)\ttotal: 39.1s\tremaining: 20m 10s\n",
      "3000:\tlearn: 0.4616110\ttest: 0.1704293\tbest: 0.1673199 (2594)\ttotal: 46.5s\tremaining: 19m 52s\n",
      "3500:\tlearn: 0.4115783\ttest: 0.1802292\tbest: 0.1673199 (2594)\ttotal: 52.9s\tremaining: 19m 16s\n",
      "4000:\tlearn: 0.3685480\ttest: 0.1904190\tbest: 0.1673199 (2594)\ttotal: 58.7s\tremaining: 18m 34s\n",
      "4500:\tlearn: 0.3314864\ttest: 0.2024865\tbest: 0.1673199 (2594)\ttotal: 1m 4s\tremaining: 18m 3s\n",
      "bestTest = 0.1673199454\n",
      "bestIteration = 2594\n",
      "Shrink model to first 2595 iterations.\n"
     ]
    },
    {
     "data": {
      "text/plain": [
       "<catboost.core.CatBoostRegressor at 0x7f6311350c50>"
      ]
     },
     "execution_count": 123,
     "metadata": {},
     "output_type": "execute_result"
    }
   ],
   "source": [
    "cb_reg.fit(X_train_scaled, y_train_scaled, eval_set=(X_test_scaled, y_test_scaled), \n",
    "           use_best_model=True, \n",
    "           early_stopping_rounds=early_stop_rounds)"
   ]
  },
  {
   "cell_type": "code",
   "execution_count": 125,
   "metadata": {
    "execution": {
     "iopub.execute_input": "2021-05-25T11:23:37.102676Z",
     "iopub.status.busy": "2021-05-25T11:23:37.102250Z",
     "iopub.status.idle": "2021-05-25T11:23:37.276123Z",
     "shell.execute_reply": "2021-05-25T11:23:37.274938Z",
     "shell.execute_reply.started": "2021-05-25T11:23:37.102642Z"
    }
   },
   "outputs": [
    {
     "name": "stdout",
     "output_type": "stream",
     "text": [
      "Test R2 = 0.90889016\n"
     ]
    }
   ],
   "source": [
    "y_pred = cb_reg.predict(X_test_scaled)\n",
    "print(\"Test R2 = %.8f\" % r2_score(y_test_scaled, y_pred))"
   ]
  },
  {
   "cell_type": "code",
   "execution_count": 95,
   "metadata": {
    "execution": {
     "iopub.execute_input": "2021-05-25T11:02:08.566583Z",
     "iopub.status.busy": "2021-05-25T11:02:08.566216Z",
     "iopub.status.idle": "2021-05-25T11:02:08.672974Z",
     "shell.execute_reply": "2021-05-25T11:02:08.671447Z",
     "shell.execute_reply.started": "2021-05-25T11:02:08.566549Z"
    }
   },
   "outputs": [],
   "source": [
    "cb_reg.save_model(\"views_cbreg\",\n",
    "           format=\"cbm\",\n",
    "           export_parameters=None,\n",
    "           pool=None)\n",
    "\n",
    "# Test R2 = 0.96081155 # best"
   ]
  },
  {
   "cell_type": "code",
   "execution_count": 103,
   "metadata": {
    "execution": {
     "iopub.execute_input": "2021-05-25T11:07:20.430653Z",
     "iopub.status.busy": "2021-05-25T11:07:20.430267Z",
     "iopub.status.idle": "2021-05-25T11:07:20.503739Z",
     "shell.execute_reply": "2021-05-25T11:07:20.502413Z",
     "shell.execute_reply.started": "2021-05-25T11:07:20.430618Z"
    }
   },
   "outputs": [],
   "source": [
    "cb_reg.save_model(\"likes_cbreg\",\n",
    "           format=\"cbm\",\n",
    "           export_parameters=None,\n",
    "           pool=None)\n",
    "\n",
    "# Test R2 = 0.95395155"
   ]
  },
  {
   "cell_type": "code",
   "execution_count": 114,
   "metadata": {
    "execution": {
     "iopub.execute_input": "2021-05-25T11:12:15.454435Z",
     "iopub.status.busy": "2021-05-25T11:12:15.454003Z",
     "iopub.status.idle": "2021-05-25T11:12:15.492919Z",
     "shell.execute_reply": "2021-05-25T11:12:15.491689Z",
     "shell.execute_reply.started": "2021-05-25T11:12:15.454386Z"
    }
   },
   "outputs": [],
   "source": [
    "cb_reg.save_model(\"dislikes_cbreg\",\n",
    "           format=\"cbm\",\n",
    "           export_parameters=None,\n",
    "           pool=None)\n",
    "\n",
    "# Test R2 = 0.81882261"
   ]
  },
  {
   "cell_type": "code",
   "execution_count": 126,
   "metadata": {
    "execution": {
     "iopub.execute_input": "2021-05-25T11:23:55.839291Z",
     "iopub.status.busy": "2021-05-25T11:23:55.838875Z",
     "iopub.status.idle": "2021-05-25T11:23:55.884290Z",
     "shell.execute_reply": "2021-05-25T11:23:55.882558Z",
     "shell.execute_reply.started": "2021-05-25T11:23:55.839258Z"
    }
   },
   "outputs": [],
   "source": [
    "cb_reg.save_model(\"comments_cbreg\",\n",
    "           format=\"cbm\",\n",
    "           export_parameters=None,\n",
    "           pool=None)\n",
    "\n",
    "# Test R2 = 0.90889016"
   ]
  }
 ],
 "metadata": {
  "kernelspec": {
   "display_name": "Python 3",
   "language": "python",
   "name": "python3"
  },
  "language_info": {
   "codemirror_mode": {
    "name": "ipython",
    "version": 3
   },
   "file_extension": ".py",
   "mimetype": "text/x-python",
   "name": "python",
   "nbconvert_exporter": "python",
   "pygments_lexer": "ipython3",
   "version": "3.7.6"
  }
 },
 "nbformat": 4,
 "nbformat_minor": 4
}
